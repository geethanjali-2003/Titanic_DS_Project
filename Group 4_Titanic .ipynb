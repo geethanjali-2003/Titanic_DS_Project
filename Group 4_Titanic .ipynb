{
 "cells": [
  {
   "cell_type": "markdown",
   "metadata": {
    "id": "6uxb0UsLZnXM"
   },
   "source": [
    "**Group Number - 4**\n",
    "* Submission - Group Project\n",
    "* File - titanic_train.csv\n",
    "* Members - Aryan Panicker, Anh Viet Doan, Bang Nguyen, Duy Le Duc, Geethanjali Dhanish\n",
    "\n",
    "\n"
   ]
  },
  {
   "cell_type": "markdown",
   "metadata": {
    "id": "aTtcHT3sfT4K"
   },
   "source": [
    "**IMPORTANT POINTS TO NOTE :**\n",
    "\n",
    "1. This code has to be run **twice**.\n",
    "2. FIRST : Run the code **without** Feature \n",
    "Engineering\n",
    "3. SECOND : Run the code **with** Feature Engineering\n",
    "> * Comment the Step 9 (without feature engineering)\n",
    "> * Uncomment the Step 9 (with feature engineering) \n",
    "> * Uncomment the feature engineering code (marked ##) \n",
    "4. Note the change in accuracy in the 2 cases (runs)\n"
   ]
  },
  {
   "cell_type": "markdown",
   "metadata": {
    "id": "2jfsE4DULPes"
   },
   "source": [
    "1 - Import all important libraries"
   ]
  },
  {
   "cell_type": "code",
   "execution_count": 1,
   "metadata": {
    "id": "nW7sMm4tPyAJ"
   },
   "outputs": [],
   "source": [
    "import numpy as np\n",
    "import pandas as pd\n",
    "import matplotlib.pyplot as plt\n",
    "import seaborn as sns\n",
    "%matplotlib inline"
   ]
  },
  {
   "cell_type": "markdown",
   "metadata": {
    "id": "rUJ39UdhLgEY"
   },
   "source": [
    "2 - Reading the titanic_train.csv file into pandas dataframe"
   ]
  },
  {
   "cell_type": "code",
   "execution_count": 2,
   "metadata": {
    "id": "z8uCipggP5aT"
   },
   "outputs": [],
   "source": [
    "# titanic_train.csv file is assigned to dataframe \"titanic\"\n",
    "titanic = pd.read_csv('titanic_train.csv') "
   ]
  },
  {
   "cell_type": "markdown",
   "metadata": {
    "id": "3_cJojA9MGVM"
   },
   "source": [
    "3 - View the top few rows of the dataframe"
   ]
  },
  {
   "cell_type": "code",
   "execution_count": 3,
   "metadata": {
    "colab": {
     "base_uri": "https://localhost:8080/",
     "height": 548
    },
    "id": "r85PYtX4QAia",
    "outputId": "b5d11985-6bb7-4982-adb4-df69ce5bd6af"
   },
   "outputs": [
    {
     "data": {
      "text/html": [
       "<div>\n",
       "<style scoped>\n",
       "    .dataframe tbody tr th:only-of-type {\n",
       "        vertical-align: middle;\n",
       "    }\n",
       "\n",
       "    .dataframe tbody tr th {\n",
       "        vertical-align: top;\n",
       "    }\n",
       "\n",
       "    .dataframe thead th {\n",
       "        text-align: right;\n",
       "    }\n",
       "</style>\n",
       "<table border=\"1\" class=\"dataframe\">\n",
       "  <thead>\n",
       "    <tr style=\"text-align: right;\">\n",
       "      <th></th>\n",
       "      <th>PassengerId</th>\n",
       "      <th>Survived</th>\n",
       "      <th>Pclass</th>\n",
       "      <th>Name</th>\n",
       "      <th>Sex</th>\n",
       "      <th>Age</th>\n",
       "      <th>SibSp</th>\n",
       "      <th>Parch</th>\n",
       "      <th>Ticket</th>\n",
       "      <th>Fare</th>\n",
       "      <th>Cabin</th>\n",
       "      <th>Embarked</th>\n",
       "    </tr>\n",
       "  </thead>\n",
       "  <tbody>\n",
       "    <tr>\n",
       "      <th>0</th>\n",
       "      <td>1</td>\n",
       "      <td>0</td>\n",
       "      <td>3</td>\n",
       "      <td>Braund, Mr. Owen Harris</td>\n",
       "      <td>male</td>\n",
       "      <td>22.0</td>\n",
       "      <td>1</td>\n",
       "      <td>0</td>\n",
       "      <td>A/5 21171</td>\n",
       "      <td>7.2500</td>\n",
       "      <td>NaN</td>\n",
       "      <td>S</td>\n",
       "    </tr>\n",
       "    <tr>\n",
       "      <th>1</th>\n",
       "      <td>2</td>\n",
       "      <td>1</td>\n",
       "      <td>1</td>\n",
       "      <td>Cumings, Mrs. John Bradley (Florence Briggs Th...</td>\n",
       "      <td>female</td>\n",
       "      <td>38.0</td>\n",
       "      <td>1</td>\n",
       "      <td>0</td>\n",
       "      <td>PC 17599</td>\n",
       "      <td>71.2833</td>\n",
       "      <td>C85</td>\n",
       "      <td>C</td>\n",
       "    </tr>\n",
       "    <tr>\n",
       "      <th>2</th>\n",
       "      <td>3</td>\n",
       "      <td>1</td>\n",
       "      <td>3</td>\n",
       "      <td>Heikkinen, Miss. Laina</td>\n",
       "      <td>female</td>\n",
       "      <td>26.0</td>\n",
       "      <td>0</td>\n",
       "      <td>0</td>\n",
       "      <td>STON/O2. 3101282</td>\n",
       "      <td>7.9250</td>\n",
       "      <td>NaN</td>\n",
       "      <td>S</td>\n",
       "    </tr>\n",
       "    <tr>\n",
       "      <th>3</th>\n",
       "      <td>4</td>\n",
       "      <td>1</td>\n",
       "      <td>1</td>\n",
       "      <td>Futrelle, Mrs. Jacques Heath (Lily May Peel)</td>\n",
       "      <td>female</td>\n",
       "      <td>35.0</td>\n",
       "      <td>1</td>\n",
       "      <td>0</td>\n",
       "      <td>113803</td>\n",
       "      <td>53.1000</td>\n",
       "      <td>C123</td>\n",
       "      <td>S</td>\n",
       "    </tr>\n",
       "    <tr>\n",
       "      <th>4</th>\n",
       "      <td>5</td>\n",
       "      <td>0</td>\n",
       "      <td>3</td>\n",
       "      <td>Allen, Mr. William Henry</td>\n",
       "      <td>male</td>\n",
       "      <td>35.0</td>\n",
       "      <td>0</td>\n",
       "      <td>0</td>\n",
       "      <td>373450</td>\n",
       "      <td>8.0500</td>\n",
       "      <td>NaN</td>\n",
       "      <td>S</td>\n",
       "    </tr>\n",
       "  </tbody>\n",
       "</table>\n",
       "</div>"
      ],
      "text/plain": [
       "   PassengerId  Survived  Pclass  \\\n",
       "0            1         0       3   \n",
       "1            2         1       1   \n",
       "2            3         1       3   \n",
       "3            4         1       1   \n",
       "4            5         0       3   \n",
       "\n",
       "                                                Name     Sex   Age  SibSp  \\\n",
       "0                            Braund, Mr. Owen Harris    male  22.0      1   \n",
       "1  Cumings, Mrs. John Bradley (Florence Briggs Th...  female  38.0      1   \n",
       "2                             Heikkinen, Miss. Laina  female  26.0      0   \n",
       "3       Futrelle, Mrs. Jacques Heath (Lily May Peel)  female  35.0      1   \n",
       "4                           Allen, Mr. William Henry    male  35.0      0   \n",
       "\n",
       "   Parch            Ticket     Fare Cabin Embarked  \n",
       "0      0         A/5 21171   7.2500   NaN        S  \n",
       "1      0          PC 17599  71.2833   C85        C  \n",
       "2      0  STON/O2. 3101282   7.9250   NaN        S  \n",
       "3      0            113803  53.1000  C123        S  \n",
       "4      0            373450   8.0500   NaN        S  "
      ]
     },
     "execution_count": 3,
     "metadata": {},
     "output_type": "execute_result"
    }
   ],
   "source": [
    "# Display first 5 rows of dataframe\n",
    "titanic.head()"
   ]
  },
  {
   "cell_type": "markdown",
   "metadata": {
    "id": "GF6pZ6pNMWVX"
   },
   "source": [
    "4 - Exploratory Data Analysis to Visualize the data"
   ]
  },
  {
   "cell_type": "code",
   "execution_count": 4,
   "metadata": {
    "colab": {
     "base_uri": "https://localhost:8080/",
     "height": 300
    },
    "id": "wCkg9NCGLIv2",
    "outputId": "5a5ba759-543d-42ff-fd60-b3f268e9d2da"
   },
   "outputs": [
    {
     "data": {
      "text/html": [
       "<div>\n",
       "<style scoped>\n",
       "    .dataframe tbody tr th:only-of-type {\n",
       "        vertical-align: middle;\n",
       "    }\n",
       "\n",
       "    .dataframe tbody tr th {\n",
       "        vertical-align: top;\n",
       "    }\n",
       "\n",
       "    .dataframe thead th {\n",
       "        text-align: right;\n",
       "    }\n",
       "</style>\n",
       "<table border=\"1\" class=\"dataframe\">\n",
       "  <thead>\n",
       "    <tr style=\"text-align: right;\">\n",
       "      <th></th>\n",
       "      <th>PassengerId</th>\n",
       "      <th>Survived</th>\n",
       "      <th>Pclass</th>\n",
       "      <th>Age</th>\n",
       "      <th>SibSp</th>\n",
       "      <th>Parch</th>\n",
       "      <th>Fare</th>\n",
       "    </tr>\n",
       "  </thead>\n",
       "  <tbody>\n",
       "    <tr>\n",
       "      <th>count</th>\n",
       "      <td>891.000000</td>\n",
       "      <td>891.000000</td>\n",
       "      <td>891.000000</td>\n",
       "      <td>714.000000</td>\n",
       "      <td>891.000000</td>\n",
       "      <td>891.000000</td>\n",
       "      <td>891.000000</td>\n",
       "    </tr>\n",
       "    <tr>\n",
       "      <th>mean</th>\n",
       "      <td>446.000000</td>\n",
       "      <td>0.383838</td>\n",
       "      <td>2.308642</td>\n",
       "      <td>29.699118</td>\n",
       "      <td>0.523008</td>\n",
       "      <td>0.381594</td>\n",
       "      <td>32.204208</td>\n",
       "    </tr>\n",
       "    <tr>\n",
       "      <th>std</th>\n",
       "      <td>257.353842</td>\n",
       "      <td>0.486592</td>\n",
       "      <td>0.836071</td>\n",
       "      <td>14.526497</td>\n",
       "      <td>1.102743</td>\n",
       "      <td>0.806057</td>\n",
       "      <td>49.693429</td>\n",
       "    </tr>\n",
       "    <tr>\n",
       "      <th>min</th>\n",
       "      <td>1.000000</td>\n",
       "      <td>0.000000</td>\n",
       "      <td>1.000000</td>\n",
       "      <td>0.420000</td>\n",
       "      <td>0.000000</td>\n",
       "      <td>0.000000</td>\n",
       "      <td>0.000000</td>\n",
       "    </tr>\n",
       "    <tr>\n",
       "      <th>25%</th>\n",
       "      <td>223.500000</td>\n",
       "      <td>0.000000</td>\n",
       "      <td>2.000000</td>\n",
       "      <td>20.125000</td>\n",
       "      <td>0.000000</td>\n",
       "      <td>0.000000</td>\n",
       "      <td>7.910400</td>\n",
       "    </tr>\n",
       "    <tr>\n",
       "      <th>50%</th>\n",
       "      <td>446.000000</td>\n",
       "      <td>0.000000</td>\n",
       "      <td>3.000000</td>\n",
       "      <td>28.000000</td>\n",
       "      <td>0.000000</td>\n",
       "      <td>0.000000</td>\n",
       "      <td>14.454200</td>\n",
       "    </tr>\n",
       "    <tr>\n",
       "      <th>75%</th>\n",
       "      <td>668.500000</td>\n",
       "      <td>1.000000</td>\n",
       "      <td>3.000000</td>\n",
       "      <td>38.000000</td>\n",
       "      <td>1.000000</td>\n",
       "      <td>0.000000</td>\n",
       "      <td>31.000000</td>\n",
       "    </tr>\n",
       "    <tr>\n",
       "      <th>max</th>\n",
       "      <td>891.000000</td>\n",
       "      <td>1.000000</td>\n",
       "      <td>3.000000</td>\n",
       "      <td>80.000000</td>\n",
       "      <td>8.000000</td>\n",
       "      <td>6.000000</td>\n",
       "      <td>512.329200</td>\n",
       "    </tr>\n",
       "  </tbody>\n",
       "</table>\n",
       "</div>"
      ],
      "text/plain": [
       "       PassengerId    Survived      Pclass         Age       SibSp  \\\n",
       "count   891.000000  891.000000  891.000000  714.000000  891.000000   \n",
       "mean    446.000000    0.383838    2.308642   29.699118    0.523008   \n",
       "std     257.353842    0.486592    0.836071   14.526497    1.102743   \n",
       "min       1.000000    0.000000    1.000000    0.420000    0.000000   \n",
       "25%     223.500000    0.000000    2.000000   20.125000    0.000000   \n",
       "50%     446.000000    0.000000    3.000000   28.000000    0.000000   \n",
       "75%     668.500000    1.000000    3.000000   38.000000    1.000000   \n",
       "max     891.000000    1.000000    3.000000   80.000000    8.000000   \n",
       "\n",
       "            Parch        Fare  \n",
       "count  891.000000  891.000000  \n",
       "mean     0.381594   32.204208  \n",
       "std      0.806057   49.693429  \n",
       "min      0.000000    0.000000  \n",
       "25%      0.000000    7.910400  \n",
       "50%      0.000000   14.454200  \n",
       "75%      0.000000   31.000000  \n",
       "max      6.000000  512.329200  "
      ]
     },
     "execution_count": 4,
     "metadata": {},
     "output_type": "execute_result"
    }
   ],
   "source": [
    "# Basic Statistical Description of the dataframe\n",
    "titanic.describe()"
   ]
  },
  {
   "cell_type": "code",
   "execution_count": 5,
   "metadata": {
    "colab": {
     "base_uri": "https://localhost:8080/"
    },
    "id": "Gc-XlpZDLd_p",
    "outputId": "1adb8768-73c9-40b2-d0cb-bf8a6e5fe836"
   },
   "outputs": [
    {
     "name": "stdout",
     "output_type": "stream",
     "text": [
      "<class 'pandas.core.frame.DataFrame'>\n",
      "RangeIndex: 891 entries, 0 to 890\n",
      "Data columns (total 12 columns):\n",
      " #   Column       Non-Null Count  Dtype  \n",
      "---  ------       --------------  -----  \n",
      " 0   PassengerId  891 non-null    int64  \n",
      " 1   Survived     891 non-null    int64  \n",
      " 2   Pclass       891 non-null    int64  \n",
      " 3   Name         891 non-null    object \n",
      " 4   Sex          891 non-null    object \n",
      " 5   Age          714 non-null    float64\n",
      " 6   SibSp        891 non-null    int64  \n",
      " 7   Parch        891 non-null    int64  \n",
      " 8   Ticket       891 non-null    object \n",
      " 9   Fare         891 non-null    float64\n",
      " 10  Cabin        204 non-null    object \n",
      " 11  Embarked     889 non-null    object \n",
      "dtypes: float64(2), int64(5), object(5)\n",
      "memory usage: 83.7+ KB\n"
     ]
    }
   ],
   "source": [
    "# Information on rows and columns of the dataframe. \n",
    "titanic.info() "
   ]
  },
  {
   "cell_type": "markdown",
   "metadata": {
    "id": "FY9z7F9ZNEMs"
   },
   "source": [
    " Note : According to titanic.info(), there are 891 rows and 12 columns"
   ]
  },
  {
   "cell_type": "markdown",
   "metadata": {
    "id": "gKDo9WFazlj9"
   },
   "source": [
    "Note : Key points\n",
    "\n",
    "1.   Positive = Survived (1)\n",
    "2.   Negative = Not Survived (0)\n",
    "\n"
   ]
  },
  {
   "cell_type": "code",
   "execution_count": 6,
   "metadata": {
    "id": "n0_NTF3WKlYM"
   },
   "outputs": [],
   "source": [
    "import warnings\n",
    "warnings.simplefilter(action=\"ignore\", category=FutureWarning)"
   ]
  },
  {
   "cell_type": "code",
   "execution_count": 7,
   "metadata": {
    "colab": {
     "base_uri": "https://localhost:8080/",
     "height": 297
    },
    "id": "psB9bbhzLe2E",
    "outputId": "21a3faba-5c6e-4cde-d7d5-47697565f38a"
   },
   "outputs": [
    {
     "data": {
      "text/plain": [
       "<AxesSubplot:xlabel='Survived', ylabel='count'>"
      ]
     },
     "execution_count": 7,
     "metadata": {},
     "output_type": "execute_result"
    },
    {
     "data": {
      "image/png": "[encoded data removed]",
      "text/plain": [
       "<Figure size 432x288 with 1 Axes>"
      ]
     },
     "metadata": {
      "needs_background": "light"
     },
     "output_type": "display_data"
    }
   ],
   "source": [
    "# Bar graph to show number of people survived/not survived\n",
    "sns.countplot(titanic['Survived'])"
   ]
  },
  {
   "cell_type": "code",
   "execution_count": 8,
   "metadata": {
    "colab": {
     "base_uri": "https://localhost:8080/",
     "height": 297
    },
    "id": "ncspySTBLe-N",
    "outputId": "7d4c12dd-6f23-423c-c798-4a6febd5af97"
   },
   "outputs": [
    {
     "data": {
      "text/plain": [
       "<AxesSubplot:xlabel='Survived', ylabel='count'>"
      ]
     },
     "execution_count": 8,
     "metadata": {},
     "output_type": "execute_result"
    },
    {
     "data": {
      "image/png": "[encoded data removed]",
      "text/plain": [
       "<Figure size 432x288 with 1 Axes>"
      ]
     },
     "metadata": {
      "needs_background": "light"
     },
     "output_type": "display_data"
    }
   ],
   "source": [
    "# Bar graph to show survival status based on gender\n",
    "sns.countplot(x='Survived', hue='Sex', data=titanic)"
   ]
  },
  {
   "cell_type": "code",
   "execution_count": 9,
   "metadata": {
    "colab": {
     "base_uri": "https://localhost:8080/",
     "height": 297
    },
    "id": "XqGcsgVNMoPY",
    "outputId": "6d6ad254-7bce-4d7e-e615-bd6a7a22872a"
   },
   "outputs": [
    {
     "data": {
      "text/plain": [
       "<AxesSubplot:xlabel='Pclass', ylabel='count'>"
      ]
     },
     "execution_count": 9,
     "metadata": {},
     "output_type": "execute_result"
    },
    {
     "data": {
      "image/png": "[encoded data removed]",
      "text/plain": [
       "<Figure size 432x288 with 1 Axes>"
      ]
     },
     "metadata": {
      "needs_background": "light"
     },
     "output_type": "display_data"
    }
   ],
   "source": [
    "# Bar graph to show distribution of passengers among different classes\n",
    "sns.countplot(titanic['Pclass'])"
   ]
  },
  {
   "cell_type": "code",
   "execution_count": 10,
   "metadata": {
    "colab": {
     "base_uri": "https://localhost:8080/",
     "height": 297
    },
    "id": "fuN7hAfULfCX",
    "outputId": "cb24f635-3754-47eb-b141-2fe59a722874"
   },
   "outputs": [
    {
     "data": {
      "text/plain": [
       "<AxesSubplot:xlabel='Survived', ylabel='count'>"
      ]
     },
     "execution_count": 10,
     "metadata": {},
     "output_type": "execute_result"
    },
    {
     "data": {
      "image/png": "[encoded data removed]",
      "text/plain": [
       "<Figure size 432x288 with 1 Axes>"
      ]
     },
     "metadata": {
      "needs_background": "light"
     },
     "output_type": "display_data"
    }
   ],
   "source": [
    "# Bar graph to show survival status based on different classes\n",
    "sns.countplot(x='Survived', hue='Pclass', data=titanic)"
   ]
  },
  {
   "cell_type": "code",
   "execution_count": 11,
   "metadata": {
    "colab": {
     "base_uri": "https://localhost:8080/",
     "height": 313
    },
    "id": "Pm579LvMLfGL",
    "outputId": "cbdb74fc-c945-4855-9ecc-4ec398efaae5"
   },
   "outputs": [
    {
     "data": {
      "text/plain": [
       "Text(0.5, 1.0, 'Passenger Ages on Titanic')"
      ]
     },
     "execution_count": 11,
     "metadata": {},
     "output_type": "execute_result"
    },
    {
     "data": {
      "image/png": "[encoded data removed]",
      "text/plain": [
       "<Figure size 432x288 with 1 Axes>"
      ]
     },
     "metadata": {
      "needs_background": "light"
     },
     "output_type": "display_data"
    }
   ],
   "source": [
    "# Histogram of ages of passengers\n",
    "plt.hist(titanic['Age'])\n",
    "plt.xlabel(\"Age\")\n",
    "plt.ylabel(\"Number of persons\")\n",
    "plt.title('Passenger Ages on Titanic')"
   ]
  },
  {
   "cell_type": "code",
   "execution_count": 12,
   "metadata": {
    "colab": {
     "base_uri": "https://localhost:8080/",
     "height": 313
    },
    "id": "BYRh_Cw0Qo9j",
    "outputId": "28eccf31-49c9-4efd-f19e-7c4a44d05625"
   },
   "outputs": [
    {
     "data": {
      "text/plain": [
       "Text(0.5, 0, 'Sibling/Spouses Aboard')"
      ]
     },
     "execution_count": 12,
     "metadata": {},
     "output_type": "execute_result"
    },
    {
     "data": {
      "image/png": "[encoded data removed]",
      "text/plain": [
       "<Figure size 432x288 with 1 Axes>"
      ]
     },
     "metadata": {
      "needs_background": "light"
     },
     "output_type": "display_data"
    }
   ],
   "source": [
    "# Bar graph to show number of siblings/spouses passengers have come with\n",
    "sns.countplot(titanic.SibSp)\n",
    "plt.title(\"Number of Sibling/Spouses Aboard\")\n",
    "plt.xlabel(\"Sibling/Spouses Aboard\")"
   ]
  },
  {
   "cell_type": "code",
   "execution_count": 13,
   "metadata": {
    "colab": {
     "base_uri": "https://localhost:8080/",
     "height": 313
    },
    "id": "pSXvBZsFPO9R",
    "outputId": "c1d57ff4-d6bc-453d-c178-a1e653a4e7c3"
   },
   "outputs": [
    {
     "data": {
      "text/plain": [
       "Text(0.5, 0, 'Children/Parents Aboard')"
      ]
     },
     "execution_count": 13,
     "metadata": {},
     "output_type": "execute_result"
    },
    {
     "data": {
      "image/png": "[encoded data removed]",
      "text/plain": [
       "<Figure size 432x288 with 1 Axes>"
      ]
     },
     "metadata": {
      "needs_background": "light"
     },
     "output_type": "display_data"
    }
   ],
   "source": [
    "# Bar graph to show number of children/Parents passengers have come with\n",
    "sns.countplot(titanic.Parch)\n",
    "plt.title(\"Number of Children/Parents Aboard\")\n",
    "plt.xlabel(\"Children/Parents Aboard\")"
   ]
  },
  {
   "cell_type": "markdown",
   "metadata": {
    "id": "Gi60l5WklRVr"
   },
   "source": [
    "5 - Check for Missing data \n"
   ]
  },
  {
   "cell_type": "code",
   "execution_count": 14,
   "metadata": {
    "colab": {
     "base_uri": "https://localhost:8080/"
    },
    "id": "kR4sTr02hhPp",
    "outputId": "71ef0f20-2840-46bb-bf7f-d01c0bc03fbb"
   },
   "outputs": [
    {
     "data": {
      "text/plain": [
       "PassengerId      0\n",
       "Survived         0\n",
       "Pclass           0\n",
       "Name             0\n",
       "Sex              0\n",
       "Age            177\n",
       "SibSp            0\n",
       "Parch            0\n",
       "Ticket           0\n",
       "Fare             0\n",
       "Cabin          687\n",
       "Embarked         2\n",
       "dtype: int64"
      ]
     },
     "execution_count": 14,
     "metadata": {},
     "output_type": "execute_result"
    }
   ],
   "source": [
    "# List of all columns in the dataframe along with their respective number of missing data\n",
    "titanic.isnull().sum()"
   ]
  },
  {
   "cell_type": "markdown",
   "metadata": {
    "id": "7aAd--pyQlo9"
   },
   "source": [
    "Note : According to titanic.isnull().sum(), there are 177 missing data in Age column, 687 missing data in Cabin column, and 2 missing data in Embarked column."
   ]
  },
  {
   "cell_type": "markdown",
   "metadata": {
    "id": "VFrUoPl2lXAu"
   },
   "source": [
    "6 - Data Cleaning : Impute missing values in Age based Pclass"
   ]
  },
  {
   "cell_type": "code",
   "execution_count": 15,
   "metadata": {
    "colab": {
     "base_uri": "https://localhost:8080/"
    },
    "id": "5hdPd7_E2p0w",
    "outputId": "9687e2d9-4585-416b-9805-986d1a19ca34"
   },
   "outputs": [
    {
     "name": "stdout",
     "output_type": "stream",
     "text": [
      "Total number of missing Age value in Pclass1 = 30\n",
      "Total number of missing Age value in Pclass2 = 11\n",
      "Total number of missing Age value in Pclass3 = 136\n"
     ]
    }
   ],
   "source": [
    "# Step 1 : Check for missing Age values in each of the Pclass (1,2,3)\n",
    "null_1 = titanic['Age'][titanic['Pclass'] == 1].isnull()\n",
    "null_2 = titanic['Age'][titanic['Pclass'] == 2].isnull()\n",
    "null_3 = titanic['Age'][titanic['Pclass'] == 3].isnull()\n",
    "print(\"Total number of missing Age value in Pclass1 =\", len(null_1[null_1 == True]))\n",
    "print(\"Total number of missing Age value in Pclass2 =\", len(null_2[null_2 == True]))\n",
    "print(\"Total number of missing Age value in Pclass3 =\", len(null_3[null_3 == True]))"
   ]
  },
  {
   "cell_type": "code",
   "execution_count": 16,
   "metadata": {
    "colab": {
     "base_uri": "https://localhost:8080/"
    },
    "id": "eRTmVmFmqqYK",
    "outputId": "85be83e2-b26e-482c-b9e2-4c1829844513"
   },
   "outputs": [
    {
     "name": "stdout",
     "output_type": "stream",
     "text": [
      "Mean Age of Pclass1 = 38.233440860215055\n",
      "Mean Age of Pclass2 = 29.87763005780347\n",
      "Mean Age of Pclass3 = 25.14061971830986\n"
     ]
    }
   ],
   "source": [
    "# Step 2 : Calculate the mean Age in each of the PClass (1,2,3)\n",
    "pc1 = titanic['Age'][titanic['Pclass'] == 1].mean(skipna = True)\n",
    "pc2 = titanic['Age'][titanic['Pclass'] == 2].mean(skipna = True)\n",
    "pc3 = titanic['Age'][titanic['Pclass'] == 3].mean(skipna = True)\n",
    "print(\"Mean Age of Pclass1 =\", pc1)\n",
    "print(\"Mean Age of Pclass2 =\", pc2)\n",
    "print(\"Mean Age of Pclass3 =\", pc3)"
   ]
  },
  {
   "cell_type": "code",
   "execution_count": 17,
   "metadata": {
    "id": "nLH_tsb2kxNn"
   },
   "outputs": [],
   "source": [
    "# Step 3 : Impute the mean Age values inplace of missing Age values \n",
    "titanic['Age'].fillna(titanic.groupby('Pclass')['Age'].transform('mean'), inplace = True)"
   ]
  },
  {
   "cell_type": "code",
   "execution_count": 18,
   "metadata": {
    "colab": {
     "base_uri": "https://localhost:8080/"
    },
    "id": "M_OPCZg_UIrm",
    "outputId": "a0d601f2-3b96-4325-86a6-708d78f7e9e0"
   },
   "outputs": [
    {
     "name": "stdout",
     "output_type": "stream",
     "text": [
      "Number of missing data in Age column = 0\n"
     ]
    }
   ],
   "source": [
    "# Step 4 : Check if all the missing Age data has been filled (Testing)\n",
    "print(\"Number of missing data in Age column =\", titanic['Age'].isnull().sum())"
   ]
  },
  {
   "cell_type": "markdown",
   "metadata": {
    "id": "Wq1qZveImC4s"
   },
   "source": [
    "7 - Data Cleaning : Drop the Cabin Column"
   ]
  },
  {
   "cell_type": "code",
   "execution_count": 19,
   "metadata": {
    "id": "xf5mG6EBl9ml"
   },
   "outputs": [],
   "source": [
    "# Step 1 : titanic.drop() to remove the Cabin column from the dataframe\n",
    "titanic_new = titanic.drop('Cabin', axis = 1)"
   ]
  },
  {
   "cell_type": "markdown",
   "metadata": {
    "id": "GRuH7oKOmPUt"
   },
   "source": [
    "8 - Data Cleaning : Drop the row in Embarked column that is NaN"
   ]
  },
  {
   "cell_type": "code",
   "execution_count": 20,
   "metadata": {
    "id": "Y8ZvWpYamUij"
   },
   "outputs": [],
   "source": [
    "# Step 1 : titanic.dropna to remove NaN values from Embarked column\n",
    "titanic_new.dropna(subset=['Embarked'], inplace = True)"
   ]
  },
  {
   "cell_type": "code",
   "execution_count": 21,
   "metadata": {
    "colab": {
     "base_uri": "https://localhost:8080/"
    },
    "id": "Ye5AJZXRwQw0",
    "outputId": "60aedc50-cd0a-46cf-95fb-8321d9b53f0f"
   },
   "outputs": [
    {
     "name": "stdout",
     "output_type": "stream",
     "text": [
      "Is there any NaN value in Embarked column : False\n"
     ]
    }
   ],
   "source": [
    "# Step 2 : Check if the NaN values has been removed from Embarked column\n",
    "print(\"Is there any NaN value in Embarked column :\", titanic_new['Embarked'].isnull().values.any())"
   ]
  },
  {
   "cell_type": "code",
   "execution_count": 22,
   "metadata": {
    "colab": {
     "base_uri": "https://localhost:8080/",
     "height": 548
    },
    "id": "s7uEPeq2BaNR",
    "outputId": "cf57750a-6a02-4296-fedc-9a81fb0d2a6a"
   },
   "outputs": [
    {
     "data": {
      "text/html": [
       "<div>\n",
       "<style scoped>\n",
       "    .dataframe tbody tr th:only-of-type {\n",
       "        vertical-align: middle;\n",
       "    }\n",
       "\n",
       "    .dataframe tbody tr th {\n",
       "        vertical-align: top;\n",
       "    }\n",
       "\n",
       "    .dataframe thead th {\n",
       "        text-align: right;\n",
       "    }\n",
       "</style>\n",
       "<table border=\"1\" class=\"dataframe\">\n",
       "  <thead>\n",
       "    <tr style=\"text-align: right;\">\n",
       "      <th></th>\n",
       "      <th>PassengerId</th>\n",
       "      <th>Survived</th>\n",
       "      <th>Pclass</th>\n",
       "      <th>Name</th>\n",
       "      <th>Sex</th>\n",
       "      <th>Age</th>\n",
       "      <th>SibSp</th>\n",
       "      <th>Parch</th>\n",
       "      <th>Ticket</th>\n",
       "      <th>Fare</th>\n",
       "      <th>Embarked</th>\n",
       "    </tr>\n",
       "  </thead>\n",
       "  <tbody>\n",
       "    <tr>\n",
       "      <th>0</th>\n",
       "      <td>1</td>\n",
       "      <td>0</td>\n",
       "      <td>3</td>\n",
       "      <td>Braund, Mr. Owen Harris</td>\n",
       "      <td>male</td>\n",
       "      <td>22.0</td>\n",
       "      <td>1</td>\n",
       "      <td>0</td>\n",
       "      <td>A/5 21171</td>\n",
       "      <td>7.2500</td>\n",
       "      <td>S</td>\n",
       "    </tr>\n",
       "    <tr>\n",
       "      <th>1</th>\n",
       "      <td>2</td>\n",
       "      <td>1</td>\n",
       "      <td>1</td>\n",
       "      <td>Cumings, Mrs. John Bradley (Florence Briggs Th...</td>\n",
       "      <td>female</td>\n",
       "      <td>38.0</td>\n",
       "      <td>1</td>\n",
       "      <td>0</td>\n",
       "      <td>PC 17599</td>\n",
       "      <td>71.2833</td>\n",
       "      <td>C</td>\n",
       "    </tr>\n",
       "    <tr>\n",
       "      <th>2</th>\n",
       "      <td>3</td>\n",
       "      <td>1</td>\n",
       "      <td>3</td>\n",
       "      <td>Heikkinen, Miss. Laina</td>\n",
       "      <td>female</td>\n",
       "      <td>26.0</td>\n",
       "      <td>0</td>\n",
       "      <td>0</td>\n",
       "      <td>STON/O2. 3101282</td>\n",
       "      <td>7.9250</td>\n",
       "      <td>S</td>\n",
       "    </tr>\n",
       "    <tr>\n",
       "      <th>3</th>\n",
       "      <td>4</td>\n",
       "      <td>1</td>\n",
       "      <td>1</td>\n",
       "      <td>Futrelle, Mrs. Jacques Heath (Lily May Peel)</td>\n",
       "      <td>female</td>\n",
       "      <td>35.0</td>\n",
       "      <td>1</td>\n",
       "      <td>0</td>\n",
       "      <td>113803</td>\n",
       "      <td>53.1000</td>\n",
       "      <td>S</td>\n",
       "    </tr>\n",
       "    <tr>\n",
       "      <th>4</th>\n",
       "      <td>5</td>\n",
       "      <td>0</td>\n",
       "      <td>3</td>\n",
       "      <td>Allen, Mr. William Henry</td>\n",
       "      <td>male</td>\n",
       "      <td>35.0</td>\n",
       "      <td>0</td>\n",
       "      <td>0</td>\n",
       "      <td>373450</td>\n",
       "      <td>8.0500</td>\n",
       "      <td>S</td>\n",
       "    </tr>\n",
       "  </tbody>\n",
       "</table>\n",
       "</div>"
      ],
      "text/plain": [
       "   PassengerId  Survived  Pclass  \\\n",
       "0            1         0       3   \n",
       "1            2         1       1   \n",
       "2            3         1       3   \n",
       "3            4         1       1   \n",
       "4            5         0       3   \n",
       "\n",
       "                                                Name     Sex   Age  SibSp  \\\n",
       "0                            Braund, Mr. Owen Harris    male  22.0      1   \n",
       "1  Cumings, Mrs. John Bradley (Florence Briggs Th...  female  38.0      1   \n",
       "2                             Heikkinen, Miss. Laina  female  26.0      0   \n",
       "3       Futrelle, Mrs. Jacques Heath (Lily May Peel)  female  35.0      1   \n",
       "4                           Allen, Mr. William Henry    male  35.0      0   \n",
       "\n",
       "   Parch            Ticket     Fare Embarked  \n",
       "0      0         A/5 21171   7.2500        S  \n",
       "1      0          PC 17599  71.2833        C  \n",
       "2      0  STON/O2. 3101282   7.9250        S  \n",
       "3      0            113803  53.1000        S  \n",
       "4      0            373450   8.0500        S  "
      ]
     },
     "execution_count": 22,
     "metadata": {},
     "output_type": "execute_result"
    }
   ],
   "source": [
    "titanic_new.head()"
   ]
  },
  {
   "cell_type": "markdown",
   "metadata": {
    "id": "2kVFDl4NyEZl"
   },
   "source": [
    "**EXTRA STEP**  - Data Cleaning : Drop all unwanted columns that are not in use"
   ]
  },
  {
   "cell_type": "code",
   "execution_count": 23,
   "metadata": {
    "id": "IGkn1k3MzMes"
   },
   "outputs": [],
   "source": [
    "# Drop PassengerId, Name and Ticket columns as these will not contribute to Survival prediction\n",
    "titanic_new.drop(['PassengerId','Name','Ticket'], axis = 1, inplace = True)"
   ]
  },
  {
   "cell_type": "code",
   "execution_count": 24,
   "metadata": {
    "colab": {
     "base_uri": "https://localhost:8080/"
    },
    "id": "ePGBF5_l0gwk",
    "outputId": "08f8fed0-89b3-4f0f-a8dd-0d3fe9a99ccd"
   },
   "outputs": [
    {
     "name": "stdout",
     "output_type": "stream",
     "text": [
      "<class 'pandas.core.frame.DataFrame'>\n",
      "Int64Index: 889 entries, 0 to 890\n",
      "Data columns (total 8 columns):\n",
      " #   Column    Non-Null Count  Dtype  \n",
      "---  ------    --------------  -----  \n",
      " 0   Survived  889 non-null    int64  \n",
      " 1   Pclass    889 non-null    int64  \n",
      " 2   Sex       889 non-null    object \n",
      " 3   Age       889 non-null    float64\n",
      " 4   SibSp     889 non-null    int64  \n",
      " 5   Parch     889 non-null    int64  \n",
      " 6   Fare      889 non-null    float64\n",
      " 7   Embarked  889 non-null    object \n",
      "dtypes: float64(2), int64(4), object(2)\n",
      "memory usage: 62.5+ KB\n"
     ]
    }
   ],
   "source": [
    "# Confirm that all unwanted columns are removed\n",
    "titanic_new.info()"
   ]
  },
  {
   "cell_type": "markdown",
   "metadata": {
    "id": "wjPJDSSiVc4M"
   },
   "source": [
    "**Feature Engineering (Additional Step)** "
   ]
  },
  {
   "cell_type": "code",
   "execution_count": 25,
   "metadata": {
    "colab": {
     "base_uri": "https://localhost:8080/"
    },
    "id": "8NmBWcq7XZ7m",
    "outputId": "a5c8845e-ca28-47a2-84b5-2ac942f88b2a"
   },
   "outputs": [
    {
     "data": {
      "text/plain": [
       "count          891\n",
       "unique         681\n",
       "top       CA. 2343\n",
       "freq             7\n",
       "Name: Ticket, dtype: object"
      ]
     },
     "execution_count": 25,
     "metadata": {},
     "output_type": "execute_result"
    }
   ],
   "source": [
    "#Get ticket information\n",
    "titanic['Ticket'].describe()"
   ]
  },
  {
   "cell_type": "markdown",
   "metadata": {
    "id": "q9ibNsUbXgmD"
   },
   "source": [
    "The information we get from Ticket is :\n",
    "*   There are 891 Ticket values (rows)\n",
    "*   Out of this 681 values are unique (no repetition)\n",
    "*   The most used Ticket value is 347082\n",
    "*  This value is repeated 7 times in the dataframe\n",
    "\n",
    "\n",
    "\n",
    "\n",
    "\n",
    "\n"
   ]
  },
  {
   "cell_type": "markdown",
   "metadata": {
    "id": "Lt1axWmMkRbs"
   },
   "source": [
    "**NOTE : Uncomment when running SECOND time** (last 2 lines)"
   ]
  },
  {
   "cell_type": "code",
   "execution_count": 26,
   "metadata": {
    "id": "IzHyf_PpVXOR"
   },
   "outputs": [],
   "source": [
    "# Grab the 'title' from the Name as a feature and Display the count of each 'title'\n",
    "##titanic_new['Title'] = titanic['Name'].apply(lambda x: x[x.find(', ')+2 : x.find('.')])\n",
    "##titanic_new['Title'].value_counts()"
   ]
  },
  {
   "cell_type": "markdown",
   "metadata": {
    "id": "eR7xE7JUk5ds"
   },
   "source": [
    "**NOTE : Uncomment when running SECOND time** (last 3 lines)"
   ]
  },
  {
   "cell_type": "code",
   "execution_count": 27,
   "metadata": {
    "id": "YZ_8AwD9VgQV"
   },
   "outputs": [],
   "source": [
    "# Grab the Cabin letter as feature and Display the count of each letter\n",
    "##titanic.dropna(subset=['Cabin'], inplace = True)\n",
    "##titanic_new['Cabin_Letter'] = titanic['Cabin'].astype(str).str[0]\n",
    "##titanic_new['Cabin_Letter'].value_counts()"
   ]
  },
  {
   "cell_type": "markdown",
   "metadata": {
    "id": "O7umAvdJk7u_"
   },
   "source": [
    "**NOTE : Uncomment when running SECOND time** (last line)"
   ]
  },
  {
   "cell_type": "code",
   "execution_count": 28,
   "metadata": {
    "id": "CK1Qfc3LVjw1"
   },
   "outputs": [],
   "source": [
    "# Information from Cabin_Letter\n",
    "##titanic_new['Cabin_Letter'].describe()"
   ]
  },
  {
   "cell_type": "markdown",
   "metadata": {
    "id": "eXqRx4cKazlD"
   },
   "source": [
    "9 - Convert categorical features (Sex, Embark) to dummy variables using get_dummies **(without feature engineering)**"
   ]
  },
  {
   "cell_type": "code",
   "execution_count": 29,
   "metadata": {
    "id": "Wk1kDczFa3R8"
   },
   "outputs": [],
   "source": [
    "titanic_new = pd.get_dummies(titanic_new,columns = ['Sex','Embarked'])"
   ]
  },
  {
   "cell_type": "markdown",
   "metadata": {
    "id": "MDVU5zaCkGDe"
   },
   "source": [
    "Note : Sex is split into 'male' and 'female' dummy variables; Embarked is split into 'C', 'Q' and 'S' dummy variables"
   ]
  },
  {
   "cell_type": "markdown",
   "metadata": {
    "id": "1Erluuz_d4VA"
   },
   "source": [
    "9 - Convert categorical features (Sex, Embark) to dummy variables using get_dummies **(with feature engineering)**"
   ]
  },
  {
   "cell_type": "code",
   "execution_count": 30,
   "metadata": {
    "id": "CS-AkZYlWFII"
   },
   "outputs": [],
   "source": [
    "#titanic_new = pd.get_dummies(titanic_new,columns = ['Sex','Embarked','Title','Cabin_Letter'])"
   ]
  },
  {
   "cell_type": "code",
   "execution_count": 31,
   "metadata": {
    "colab": {
     "base_uri": "https://localhost:8080/",
     "height": 270
    },
    "id": "e5m6Mjyce5Aj",
    "outputId": "2822c520-169b-42eb-fd08-96a54d1b1085"
   },
   "outputs": [
    {
     "data": {
      "text/html": [
       "<div>\n",
       "<style scoped>\n",
       "    .dataframe tbody tr th:only-of-type {\n",
       "        vertical-align: middle;\n",
       "    }\n",
       "\n",
       "    .dataframe tbody tr th {\n",
       "        vertical-align: top;\n",
       "    }\n",
       "\n",
       "    .dataframe thead th {\n",
       "        text-align: right;\n",
       "    }\n",
       "</style>\n",
       "<table border=\"1\" class=\"dataframe\">\n",
       "  <thead>\n",
       "    <tr style=\"text-align: right;\">\n",
       "      <th></th>\n",
       "      <th>Survived</th>\n",
       "      <th>Pclass</th>\n",
       "      <th>Age</th>\n",
       "      <th>SibSp</th>\n",
       "      <th>Parch</th>\n",
       "      <th>Fare</th>\n",
       "      <th>Sex_female</th>\n",
       "      <th>Sex_male</th>\n",
       "      <th>Embarked_C</th>\n",
       "      <th>Embarked_Q</th>\n",
       "      <th>Embarked_S</th>\n",
       "    </tr>\n",
       "  </thead>\n",
       "  <tbody>\n",
       "    <tr>\n",
       "      <th>0</th>\n",
       "      <td>0</td>\n",
       "      <td>3</td>\n",
       "      <td>22.0</td>\n",
       "      <td>1</td>\n",
       "      <td>0</td>\n",
       "      <td>7.2500</td>\n",
       "      <td>0</td>\n",
       "      <td>1</td>\n",
       "      <td>0</td>\n",
       "      <td>0</td>\n",
       "      <td>1</td>\n",
       "    </tr>\n",
       "    <tr>\n",
       "      <th>1</th>\n",
       "      <td>1</td>\n",
       "      <td>1</td>\n",
       "      <td>38.0</td>\n",
       "      <td>1</td>\n",
       "      <td>0</td>\n",
       "      <td>71.2833</td>\n",
       "      <td>1</td>\n",
       "      <td>0</td>\n",
       "      <td>1</td>\n",
       "      <td>0</td>\n",
       "      <td>0</td>\n",
       "    </tr>\n",
       "    <tr>\n",
       "      <th>2</th>\n",
       "      <td>1</td>\n",
       "      <td>3</td>\n",
       "      <td>26.0</td>\n",
       "      <td>0</td>\n",
       "      <td>0</td>\n",
       "      <td>7.9250</td>\n",
       "      <td>1</td>\n",
       "      <td>0</td>\n",
       "      <td>0</td>\n",
       "      <td>0</td>\n",
       "      <td>1</td>\n",
       "    </tr>\n",
       "    <tr>\n",
       "      <th>3</th>\n",
       "      <td>1</td>\n",
       "      <td>1</td>\n",
       "      <td>35.0</td>\n",
       "      <td>1</td>\n",
       "      <td>0</td>\n",
       "      <td>53.1000</td>\n",
       "      <td>1</td>\n",
       "      <td>0</td>\n",
       "      <td>0</td>\n",
       "      <td>0</td>\n",
       "      <td>1</td>\n",
       "    </tr>\n",
       "    <tr>\n",
       "      <th>4</th>\n",
       "      <td>0</td>\n",
       "      <td>3</td>\n",
       "      <td>35.0</td>\n",
       "      <td>0</td>\n",
       "      <td>0</td>\n",
       "      <td>8.0500</td>\n",
       "      <td>0</td>\n",
       "      <td>1</td>\n",
       "      <td>0</td>\n",
       "      <td>0</td>\n",
       "      <td>1</td>\n",
       "    </tr>\n",
       "  </tbody>\n",
       "</table>\n",
       "</div>"
      ],
      "text/plain": [
       "   Survived  Pclass   Age  SibSp  Parch     Fare  Sex_female  Sex_male  \\\n",
       "0         0       3  22.0      1      0   7.2500           0         1   \n",
       "1         1       1  38.0      1      0  71.2833           1         0   \n",
       "2         1       3  26.0      0      0   7.9250           1         0   \n",
       "3         1       1  35.0      1      0  53.1000           1         0   \n",
       "4         0       3  35.0      0      0   8.0500           0         1   \n",
       "\n",
       "   Embarked_C  Embarked_Q  Embarked_S  \n",
       "0           0           0           1  \n",
       "1           1           0           0  \n",
       "2           0           0           1  \n",
       "3           0           0           1  \n",
       "4           0           0           1  "
      ]
     },
     "execution_count": 31,
     "metadata": {},
     "output_type": "execute_result"
    }
   ],
   "source": [
    "# Check if the dummy variables are created\n",
    "titanic_new.head()"
   ]
  },
  {
   "cell_type": "markdown",
   "metadata": {
    "id": "ynsDN8XggjuD"
   },
   "source": [
    "10 - Build a logistic regression model "
   ]
  },
  {
   "cell_type": "markdown",
   "metadata": {
    "id": "MoC63AkM3tU7"
   },
   "source": [
    "Step 1 : Splitting the Data"
   ]
  },
  {
   "cell_type": "code",
   "execution_count": 32,
   "metadata": {
    "id": "92dJpA3CmoR2"
   },
   "outputs": [],
   "source": [
    "# Import required libraries to split the data\n",
    "from sklearn.model_selection import train_test_split"
   ]
  },
  {
   "cell_type": "code",
   "execution_count": 33,
   "metadata": {
    "id": "cscW_-QPuHPi"
   },
   "outputs": [],
   "source": [
    "# Define the X (indepenent) and y (dependent) variables\n",
    "X = titanic_new.drop('Survived', axis = 1)\n",
    "y = titanic_new['Survived']"
   ]
  },
  {
   "cell_type": "code",
   "execution_count": 34,
   "metadata": {
    "id": "b6hbmoCTne_F"
   },
   "outputs": [],
   "source": [
    "# Split the data into training and testing data on 70:30 ratio respectively \n",
    "X_train, X_test, y_train, y_test = train_test_split(X, y, train_size = 0.7, random_state = 24)"
   ]
  },
  {
   "cell_type": "markdown",
   "metadata": {
    "id": "y66ZlN653DtW"
   },
   "source": [
    "Note : X_train and y_train are used for creating the logistic model, while X_test and y_test are used for testing the model"
   ]
  },
  {
   "cell_type": "code",
   "execution_count": 35,
   "metadata": {
    "colab": {
     "base_uri": "https://localhost:8080/",
     "height": 487
    },
    "id": "Qe0fO26eZCmB",
    "outputId": "59c799c6-59ad-41ba-bfc2-e67382aa5e6d"
   },
   "outputs": [
    {
     "data": {
      "text/html": [
       "<div>\n",
       "<style scoped>\n",
       "    .dataframe tbody tr th:only-of-type {\n",
       "        vertical-align: middle;\n",
       "    }\n",
       "\n",
       "    .dataframe tbody tr th {\n",
       "        vertical-align: top;\n",
       "    }\n",
       "\n",
       "    .dataframe thead th {\n",
       "        text-align: right;\n",
       "    }\n",
       "</style>\n",
       "<table border=\"1\" class=\"dataframe\">\n",
       "  <thead>\n",
       "    <tr style=\"text-align: right;\">\n",
       "      <th></th>\n",
       "      <th>Pclass</th>\n",
       "      <th>Age</th>\n",
       "      <th>SibSp</th>\n",
       "      <th>Parch</th>\n",
       "      <th>Fare</th>\n",
       "      <th>Sex_female</th>\n",
       "      <th>Sex_male</th>\n",
       "      <th>Embarked_C</th>\n",
       "      <th>Embarked_Q</th>\n",
       "      <th>Embarked_S</th>\n",
       "    </tr>\n",
       "  </thead>\n",
       "  <tbody>\n",
       "    <tr>\n",
       "      <th>802</th>\n",
       "      <td>1</td>\n",
       "      <td>11.0</td>\n",
       "      <td>1</td>\n",
       "      <td>2</td>\n",
       "      <td>120.0000</td>\n",
       "      <td>0</td>\n",
       "      <td>1</td>\n",
       "      <td>0</td>\n",
       "      <td>0</td>\n",
       "      <td>1</td>\n",
       "    </tr>\n",
       "    <tr>\n",
       "      <th>855</th>\n",
       "      <td>3</td>\n",
       "      <td>18.0</td>\n",
       "      <td>0</td>\n",
       "      <td>1</td>\n",
       "      <td>9.3500</td>\n",
       "      <td>1</td>\n",
       "      <td>0</td>\n",
       "      <td>0</td>\n",
       "      <td>0</td>\n",
       "      <td>1</td>\n",
       "    </tr>\n",
       "    <tr>\n",
       "      <th>500</th>\n",
       "      <td>3</td>\n",
       "      <td>17.0</td>\n",
       "      <td>0</td>\n",
       "      <td>0</td>\n",
       "      <td>8.6625</td>\n",
       "      <td>0</td>\n",
       "      <td>1</td>\n",
       "      <td>0</td>\n",
       "      <td>0</td>\n",
       "      <td>1</td>\n",
       "    </tr>\n",
       "    <tr>\n",
       "      <th>798</th>\n",
       "      <td>3</td>\n",
       "      <td>30.0</td>\n",
       "      <td>0</td>\n",
       "      <td>0</td>\n",
       "      <td>7.2292</td>\n",
       "      <td>0</td>\n",
       "      <td>1</td>\n",
       "      <td>1</td>\n",
       "      <td>0</td>\n",
       "      <td>0</td>\n",
       "    </tr>\n",
       "    <tr>\n",
       "      <th>178</th>\n",
       "      <td>2</td>\n",
       "      <td>30.0</td>\n",
       "      <td>0</td>\n",
       "      <td>0</td>\n",
       "      <td>13.0000</td>\n",
       "      <td>0</td>\n",
       "      <td>1</td>\n",
       "      <td>0</td>\n",
       "      <td>0</td>\n",
       "      <td>1</td>\n",
       "    </tr>\n",
       "    <tr>\n",
       "      <th>...</th>\n",
       "      <td>...</td>\n",
       "      <td>...</td>\n",
       "      <td>...</td>\n",
       "      <td>...</td>\n",
       "      <td>...</td>\n",
       "      <td>...</td>\n",
       "      <td>...</td>\n",
       "      <td>...</td>\n",
       "      <td>...</td>\n",
       "      <td>...</td>\n",
       "    </tr>\n",
       "    <tr>\n",
       "      <th>146</th>\n",
       "      <td>3</td>\n",
       "      <td>27.0</td>\n",
       "      <td>0</td>\n",
       "      <td>0</td>\n",
       "      <td>7.7958</td>\n",
       "      <td>0</td>\n",
       "      <td>1</td>\n",
       "      <td>0</td>\n",
       "      <td>0</td>\n",
       "      <td>1</td>\n",
       "    </tr>\n",
       "    <tr>\n",
       "      <th>402</th>\n",
       "      <td>3</td>\n",
       "      <td>21.0</td>\n",
       "      <td>1</td>\n",
       "      <td>0</td>\n",
       "      <td>9.8250</td>\n",
       "      <td>1</td>\n",
       "      <td>0</td>\n",
       "      <td>0</td>\n",
       "      <td>0</td>\n",
       "      <td>1</td>\n",
       "    </tr>\n",
       "    <tr>\n",
       "      <th>344</th>\n",
       "      <td>2</td>\n",
       "      <td>36.0</td>\n",
       "      <td>0</td>\n",
       "      <td>0</td>\n",
       "      <td>13.0000</td>\n",
       "      <td>0</td>\n",
       "      <td>1</td>\n",
       "      <td>0</td>\n",
       "      <td>0</td>\n",
       "      <td>1</td>\n",
       "    </tr>\n",
       "    <tr>\n",
       "      <th>193</th>\n",
       "      <td>2</td>\n",
       "      <td>3.0</td>\n",
       "      <td>1</td>\n",
       "      <td>1</td>\n",
       "      <td>26.0000</td>\n",
       "      <td>0</td>\n",
       "      <td>1</td>\n",
       "      <td>0</td>\n",
       "      <td>0</td>\n",
       "      <td>1</td>\n",
       "    </tr>\n",
       "    <tr>\n",
       "      <th>419</th>\n",
       "      <td>3</td>\n",
       "      <td>10.0</td>\n",
       "      <td>0</td>\n",
       "      <td>2</td>\n",
       "      <td>24.1500</td>\n",
       "      <td>1</td>\n",
       "      <td>0</td>\n",
       "      <td>0</td>\n",
       "      <td>0</td>\n",
       "      <td>1</td>\n",
       "    </tr>\n",
       "  </tbody>\n",
       "</table>\n",
       "<p>622 rows × 10 columns</p>\n",
       "</div>"
      ],
      "text/plain": [
       "     Pclass   Age  SibSp  Parch      Fare  Sex_female  Sex_male  Embarked_C  \\\n",
       "802       1  11.0      1      2  120.0000           0         1           0   \n",
       "855       3  18.0      0      1    9.3500           1         0           0   \n",
       "500       3  17.0      0      0    8.6625           0         1           0   \n",
       "798       3  30.0      0      0    7.2292           0         1           1   \n",
       "178       2  30.0      0      0   13.0000           0         1           0   \n",
       "..      ...   ...    ...    ...       ...         ...       ...         ...   \n",
       "146       3  27.0      0      0    7.7958           0         1           0   \n",
       "402       3  21.0      1      0    9.8250           1         0           0   \n",
       "344       2  36.0      0      0   13.0000           0         1           0   \n",
       "193       2   3.0      1      1   26.0000           0         1           0   \n",
       "419       3  10.0      0      2   24.1500           1         0           0   \n",
       "\n",
       "     Embarked_Q  Embarked_S  \n",
       "802           0           1  \n",
       "855           0           1  \n",
       "500           0           1  \n",
       "798           0           0  \n",
       "178           0           1  \n",
       "..          ...         ...  \n",
       "146           0           1  \n",
       "402           0           1  \n",
       "344           0           1  \n",
       "193           0           1  \n",
       "419           0           1  \n",
       "\n",
       "[622 rows x 10 columns]"
      ]
     },
     "execution_count": 35,
     "metadata": {},
     "output_type": "execute_result"
    }
   ],
   "source": [
    "# View X_train data\n",
    "X_train"
   ]
  },
  {
   "cell_type": "code",
   "execution_count": 36,
   "metadata": {
    "colab": {
     "base_uri": "https://localhost:8080/"
    },
    "id": "5BbOI6IRvuwd",
    "outputId": "cb48cc24-1b19-417f-90a4-46bd4e553098"
   },
   "outputs": [
    {
     "data": {
      "text/plain": [
       "802    1\n",
       "855    1\n",
       "500    0\n",
       "798    0\n",
       "178    0\n",
       "      ..\n",
       "146    1\n",
       "402    0\n",
       "344    0\n",
       "193    1\n",
       "419    0\n",
       "Name: Survived, Length: 622, dtype: int64"
      ]
     },
     "execution_count": 36,
     "metadata": {},
     "output_type": "execute_result"
    }
   ],
   "source": [
    "# View y_train data\n",
    "y_train"
   ]
  },
  {
   "cell_type": "markdown",
   "metadata": {
    "id": "52lzopLY3zcT"
   },
   "source": [
    "Step 2 : Building the Model"
   ]
  },
  {
   "cell_type": "code",
   "execution_count": 37,
   "metadata": {
    "id": "v9uAZcV1pGOH"
   },
   "outputs": [],
   "source": [
    "# Import required libraries to build the logistic regression model\n",
    "from sklearn.linear_model import LogisticRegression"
   ]
  },
  {
   "cell_type": "code",
   "execution_count": 38,
   "metadata": {
    "colab": {
     "base_uri": "https://localhost:8080/"
    },
    "id": "g4CNo4Qw5Ay6",
    "outputId": "2bae823f-e80e-4889-88d1-61bef1b3c26e"
   },
   "outputs": [
    {
     "data": {
      "text/plain": [
       "LogisticRegression(max_iter=900)"
      ]
     },
     "execution_count": 38,
     "metadata": {},
     "output_type": "execute_result"
    }
   ],
   "source": [
    "# Create logistic regression model using training data (X_train, y_train)\n",
    "model = LogisticRegression(solver = 'lbfgs', max_iter=900)\n",
    "model.fit(X_train, y_train)"
   ]
  },
  {
   "cell_type": "code",
   "execution_count": 39,
   "metadata": {
    "colab": {
     "base_uri": "https://localhost:8080/"
    },
    "id": "F4xMvp9_OTdF",
    "outputId": "40b46bed-6c30-4cdd-ea32-6f093e6fa405"
   },
   "outputs": [
    {
     "name": "stdout",
     "output_type": "stream",
     "text": [
      "<class 'pandas.core.frame.DataFrame'>\n",
      "Int64Index: 889 entries, 0 to 890\n",
      "Data columns (total 11 columns):\n",
      " #   Column      Non-Null Count  Dtype  \n",
      "---  ------      --------------  -----  \n",
      " 0   Survived    889 non-null    int64  \n",
      " 1   Pclass      889 non-null    int64  \n",
      " 2   Age         889 non-null    float64\n",
      " 3   SibSp       889 non-null    int64  \n",
      " 4   Parch       889 non-null    int64  \n",
      " 5   Fare        889 non-null    float64\n",
      " 6   Sex_female  889 non-null    uint8  \n",
      " 7   Sex_male    889 non-null    uint8  \n",
      " 8   Embarked_C  889 non-null    uint8  \n",
      " 9   Embarked_Q  889 non-null    uint8  \n",
      " 10  Embarked_S  889 non-null    uint8  \n",
      "dtypes: float64(2), int64(4), uint8(5)\n",
      "memory usage: 53.0 KB\n"
     ]
    }
   ],
   "source": [
    "titanic_new.info()"
   ]
  },
  {
   "cell_type": "code",
   "execution_count": 40,
   "metadata": {
    "colab": {
     "base_uri": "https://localhost:8080/",
     "height": 487
    },
    "id": "0pBfcJpcrjoH",
    "outputId": "dd5545bb-4765-4f67-824f-8b91720a72e9"
   },
   "outputs": [
    {
     "data": {
      "text/html": [
       "<div>\n",
       "<style scoped>\n",
       "    .dataframe tbody tr th:only-of-type {\n",
       "        vertical-align: middle;\n",
       "    }\n",
       "\n",
       "    .dataframe tbody tr th {\n",
       "        vertical-align: top;\n",
       "    }\n",
       "\n",
       "    .dataframe thead th {\n",
       "        text-align: right;\n",
       "    }\n",
       "</style>\n",
       "<table border=\"1\" class=\"dataframe\">\n",
       "  <thead>\n",
       "    <tr style=\"text-align: right;\">\n",
       "      <th></th>\n",
       "      <th>Pclass</th>\n",
       "      <th>Age</th>\n",
       "      <th>SibSp</th>\n",
       "      <th>Parch</th>\n",
       "      <th>Fare</th>\n",
       "      <th>Sex_female</th>\n",
       "      <th>Sex_male</th>\n",
       "      <th>Embarked_C</th>\n",
       "      <th>Embarked_Q</th>\n",
       "      <th>Embarked_S</th>\n",
       "    </tr>\n",
       "  </thead>\n",
       "  <tbody>\n",
       "    <tr>\n",
       "      <th>170</th>\n",
       "      <td>1</td>\n",
       "      <td>61.000000</td>\n",
       "      <td>0</td>\n",
       "      <td>0</td>\n",
       "      <td>33.5000</td>\n",
       "      <td>0</td>\n",
       "      <td>1</td>\n",
       "      <td>0</td>\n",
       "      <td>0</td>\n",
       "      <td>1</td>\n",
       "    </tr>\n",
       "    <tr>\n",
       "      <th>557</th>\n",
       "      <td>1</td>\n",
       "      <td>38.233441</td>\n",
       "      <td>0</td>\n",
       "      <td>0</td>\n",
       "      <td>227.5250</td>\n",
       "      <td>0</td>\n",
       "      <td>1</td>\n",
       "      <td>1</td>\n",
       "      <td>0</td>\n",
       "      <td>0</td>\n",
       "    </tr>\n",
       "    <tr>\n",
       "      <th>207</th>\n",
       "      <td>3</td>\n",
       "      <td>26.000000</td>\n",
       "      <td>0</td>\n",
       "      <td>0</td>\n",
       "      <td>18.7875</td>\n",
       "      <td>0</td>\n",
       "      <td>1</td>\n",
       "      <td>1</td>\n",
       "      <td>0</td>\n",
       "      <td>0</td>\n",
       "    </tr>\n",
       "    <tr>\n",
       "      <th>72</th>\n",
       "      <td>2</td>\n",
       "      <td>21.000000</td>\n",
       "      <td>0</td>\n",
       "      <td>0</td>\n",
       "      <td>73.5000</td>\n",
       "      <td>0</td>\n",
       "      <td>1</td>\n",
       "      <td>0</td>\n",
       "      <td>0</td>\n",
       "      <td>1</td>\n",
       "    </tr>\n",
       "    <tr>\n",
       "      <th>830</th>\n",
       "      <td>3</td>\n",
       "      <td>15.000000</td>\n",
       "      <td>1</td>\n",
       "      <td>0</td>\n",
       "      <td>14.4542</td>\n",
       "      <td>1</td>\n",
       "      <td>0</td>\n",
       "      <td>1</td>\n",
       "      <td>0</td>\n",
       "      <td>0</td>\n",
       "    </tr>\n",
       "    <tr>\n",
       "      <th>...</th>\n",
       "      <td>...</td>\n",
       "      <td>...</td>\n",
       "      <td>...</td>\n",
       "      <td>...</td>\n",
       "      <td>...</td>\n",
       "      <td>...</td>\n",
       "      <td>...</td>\n",
       "      <td>...</td>\n",
       "      <td>...</td>\n",
       "      <td>...</td>\n",
       "    </tr>\n",
       "    <tr>\n",
       "      <th>80</th>\n",
       "      <td>3</td>\n",
       "      <td>22.000000</td>\n",
       "      <td>0</td>\n",
       "      <td>0</td>\n",
       "      <td>9.0000</td>\n",
       "      <td>0</td>\n",
       "      <td>1</td>\n",
       "      <td>0</td>\n",
       "      <td>0</td>\n",
       "      <td>1</td>\n",
       "    </tr>\n",
       "    <tr>\n",
       "      <th>89</th>\n",
       "      <td>3</td>\n",
       "      <td>24.000000</td>\n",
       "      <td>0</td>\n",
       "      <td>0</td>\n",
       "      <td>8.0500</td>\n",
       "      <td>0</td>\n",
       "      <td>1</td>\n",
       "      <td>0</td>\n",
       "      <td>0</td>\n",
       "      <td>1</td>\n",
       "    </tr>\n",
       "    <tr>\n",
       "      <th>495</th>\n",
       "      <td>3</td>\n",
       "      <td>25.140620</td>\n",
       "      <td>0</td>\n",
       "      <td>0</td>\n",
       "      <td>14.4583</td>\n",
       "      <td>0</td>\n",
       "      <td>1</td>\n",
       "      <td>1</td>\n",
       "      <td>0</td>\n",
       "      <td>0</td>\n",
       "    </tr>\n",
       "    <tr>\n",
       "      <th>317</th>\n",
       "      <td>2</td>\n",
       "      <td>54.000000</td>\n",
       "      <td>0</td>\n",
       "      <td>0</td>\n",
       "      <td>14.0000</td>\n",
       "      <td>0</td>\n",
       "      <td>1</td>\n",
       "      <td>0</td>\n",
       "      <td>0</td>\n",
       "      <td>1</td>\n",
       "    </tr>\n",
       "    <tr>\n",
       "      <th>154</th>\n",
       "      <td>3</td>\n",
       "      <td>25.140620</td>\n",
       "      <td>0</td>\n",
       "      <td>0</td>\n",
       "      <td>7.3125</td>\n",
       "      <td>0</td>\n",
       "      <td>1</td>\n",
       "      <td>0</td>\n",
       "      <td>0</td>\n",
       "      <td>1</td>\n",
       "    </tr>\n",
       "  </tbody>\n",
       "</table>\n",
       "<p>267 rows × 10 columns</p>\n",
       "</div>"
      ],
      "text/plain": [
       "     Pclass        Age  SibSp  Parch      Fare  Sex_female  Sex_male  \\\n",
       "170       1  61.000000      0      0   33.5000           0         1   \n",
       "557       1  38.233441      0      0  227.5250           0         1   \n",
       "207       3  26.000000      0      0   18.7875           0         1   \n",
       "72        2  21.000000      0      0   73.5000           0         1   \n",
       "830       3  15.000000      1      0   14.4542           1         0   \n",
       "..      ...        ...    ...    ...       ...         ...       ...   \n",
       "80        3  22.000000      0      0    9.0000           0         1   \n",
       "89        3  24.000000      0      0    8.0500           0         1   \n",
       "495       3  25.140620      0      0   14.4583           0         1   \n",
       "317       2  54.000000      0      0   14.0000           0         1   \n",
       "154       3  25.140620      0      0    7.3125           0         1   \n",
       "\n",
       "     Embarked_C  Embarked_Q  Embarked_S  \n",
       "170           0           0           1  \n",
       "557           1           0           0  \n",
       "207           1           0           0  \n",
       "72            0           0           1  \n",
       "830           1           0           0  \n",
       "..          ...         ...         ...  \n",
       "80            0           0           1  \n",
       "89            0           0           1  \n",
       "495           1           0           0  \n",
       "317           0           0           1  \n",
       "154           0           0           1  \n",
       "\n",
       "[267 rows x 10 columns]"
      ]
     },
     "execution_count": 40,
     "metadata": {},
     "output_type": "execute_result"
    }
   ],
   "source": [
    "# View X_test data\n",
    "X_test"
   ]
  },
  {
   "cell_type": "markdown",
   "metadata": {
    "id": "T9wPOOst66AI"
   },
   "source": [
    "\n",
    "Note : Training data = 70% and Testing data = 30%\n",
    "\n",
    "*   Training data = 622 \n",
    "*   Testing data = 267\n",
    "*   Total data = 889 ( 2 rows were removed due to NaN value in Embarked column )\n",
    "\n",
    "\n"
   ]
  },
  {
   "cell_type": "markdown",
   "metadata": {
    "id": "x8dyRBOPoSn_"
   },
   "source": [
    "11 - Predict and Evaluate the model"
   ]
  },
  {
   "cell_type": "code",
   "execution_count": 41,
   "metadata": {
    "colab": {
     "base_uri": "https://localhost:8080/"
    },
    "id": "9QT1F6ik8b3u",
    "outputId": "6997e141-4af7-4aeb-90e1-cf7623bef830"
   },
   "outputs": [
    {
     "data": {
      "text/plain": [
       "array([0, 1, 0, 0, 1, 0, 0, 0, 0, 0, 0, 1, 1, 1, 0, 0, 0, 0, 0, 0, 0, 1,\n",
       "       0, 0, 1, 1, 0, 0, 1, 0, 1, 0, 1, 0, 0, 0, 1, 0, 0, 0, 1, 0, 0, 0,\n",
       "       0, 1, 0, 0, 0, 0, 0, 1, 1, 0, 0, 0, 1, 0, 0, 0, 0, 0, 0, 0, 0, 0,\n",
       "       0, 0, 0, 0, 0, 1, 0, 0, 0, 0, 0, 0, 1, 1, 0, 0, 0, 1, 0, 0, 1, 0,\n",
       "       0, 0, 0, 0, 0, 1, 0, 1, 0, 0, 0, 1, 0, 0, 1, 0, 0, 0, 1, 0, 0, 0,\n",
       "       0, 0, 0, 0, 0, 1, 1, 1, 0, 0, 1, 1, 0, 0, 0, 0, 0, 0, 0, 0, 0, 1,\n",
       "       1, 0, 1, 1, 0, 0, 0, 0, 0, 1, 0, 0, 1, 0, 1, 1, 0, 0, 1, 1, 1, 0,\n",
       "       1, 0, 1, 1, 0, 0, 0, 1, 0, 1, 0, 0, 1, 1, 0, 0, 0, 1, 1, 0, 0, 0,\n",
       "       0, 0, 1, 0, 1, 0, 0, 0, 0, 1, 1, 0, 0, 0, 0, 0, 0, 0, 1, 1, 0, 0,\n",
       "       0, 0, 1, 0, 0, 0, 1, 0, 1, 0, 1, 1, 0, 0, 0, 1, 0, 0, 1, 0, 0, 1,\n",
       "       1, 1, 0, 0, 0, 0, 0, 0, 1, 0, 0, 0, 1, 1, 0, 0, 0, 0, 0, 1, 0, 1,\n",
       "       1, 1, 1, 0, 1, 0, 0, 0, 1, 0, 0, 1, 0, 1, 0, 0, 1, 0, 0, 0, 0, 0,\n",
       "       0, 0, 0], dtype=int64)"
      ]
     },
     "execution_count": 41,
     "metadata": {},
     "output_type": "execute_result"
    }
   ],
   "source": [
    "# Predict the model\n",
    "y_pred = model.predict(X_test)\n",
    "y_pred"
   ]
  },
  {
   "cell_type": "code",
   "execution_count": 42,
   "metadata": {
    "colab": {
     "base_uri": "https://localhost:8080/"
    },
    "id": "uKsHHmpCFyWh",
    "outputId": "6848512a-1e24-44c6-cc52-5f0fcc454b7b"
   },
   "outputs": [
    {
     "name": "stdout",
     "output_type": "stream",
     "text": [
      "Number of people who are predicted to survive (testing data) = 81\n",
      "Number of people who are predicted to not survive (testing data) = 186\n"
     ]
    }
   ],
   "source": [
    "# Count of Survived / Not Survived\n",
    "print('Number of people who are predicted to survive (testing data) =', np.count_nonzero(y_pred == 1))\n",
    "print('Number of people who are predicted to not survive (testing data) =', np.count_nonzero(y_pred == 0))"
   ]
  },
  {
   "cell_type": "code",
   "execution_count": 43,
   "metadata": {
    "colab": {
     "base_uri": "https://localhost:8080/"
    },
    "id": "K0txoFQHr9Kw",
    "outputId": "f9b43d99-5ef2-4ab0-eb19-9d0f207aa5ea"
   },
   "outputs": [
    {
     "data": {
      "text/plain": [
       "array([[0.76114864, 0.23885136],\n",
       "       [0.33496972, 0.66503028],\n",
       "       [0.86544682, 0.13455318],\n",
       "       [0.66317699, 0.33682301],\n",
       "       [0.3189919 , 0.6810081 ],\n",
       "       [0.52491844, 0.47508156],\n",
       "       [0.90189273, 0.09810727],\n",
       "       [0.73787087, 0.26212913],\n",
       "       [0.84019511, 0.15980489],\n",
       "       [0.87435886, 0.12564114],\n",
       "       [0.77850159, 0.22149841],\n",
       "       [0.44703216, 0.55296784],\n",
       "       [0.05731756, 0.94268244],\n",
       "       [0.12696538, 0.87303462],\n",
       "       [0.83073428, 0.16926572],\n",
       "       [0.9291483 , 0.0708517 ],\n",
       "       [0.9597262 , 0.0402738 ],\n",
       "       [0.5947867 , 0.4052133 ],\n",
       "       [0.88182386, 0.11817614],\n",
       "       [0.89612047, 0.10387953],\n",
       "       [0.75064221, 0.24935779],\n",
       "       [0.08398589, 0.91601411],\n",
       "       [0.96572088, 0.03427912],\n",
       "       [0.87442611, 0.12557389],\n",
       "       [0.05554186, 0.94445814],\n",
       "       [0.20729079, 0.79270921],\n",
       "       [0.79878631, 0.20121369],\n",
       "       [0.74850716, 0.25149284],\n",
       "       [0.24822042, 0.75177958],\n",
       "       [0.85417019, 0.14582981],\n",
       "       [0.11116384, 0.88883616],\n",
       "       [0.88068451, 0.11931549],\n",
       "       [0.05813579, 0.94186421],\n",
       "       [0.88257679, 0.11742321],\n",
       "       [0.85288228, 0.14711772],\n",
       "       [0.53665669, 0.46334331],\n",
       "       [0.05699406, 0.94300594],\n",
       "       [0.89597648, 0.10402352],\n",
       "       [0.8615427 , 0.1384573 ],\n",
       "       [0.70222125, 0.29777875],\n",
       "       [0.04206549, 0.95793451],\n",
       "       [0.83006838, 0.16993162],\n",
       "       [0.66302265, 0.33697735],\n",
       "       [0.88844008, 0.11155992],\n",
       "       [0.92400861, 0.07599139],\n",
       "       [0.13190147, 0.86809853],\n",
       "       [0.66194948, 0.33805052],\n",
       "       [0.89342711, 0.10657289],\n",
       "       [0.86522913, 0.13477087],\n",
       "       [0.71114005, 0.28885995],\n",
       "       [0.95339638, 0.04660362],\n",
       "       [0.05642504, 0.94357496],\n",
       "       [0.25874207, 0.74125793],\n",
       "       [0.87764041, 0.12235959],\n",
       "       [0.94332079, 0.05667921],\n",
       "       [0.54450569, 0.45549431],\n",
       "       [0.21968116, 0.78031884],\n",
       "       [0.8672904 , 0.1327096 ],\n",
       "       [0.90507822, 0.09492178],\n",
       "       [0.907128  , 0.092872  ],\n",
       "       [0.90505829, 0.09494171],\n",
       "       [0.92394113, 0.07605887],\n",
       "       [0.9050441 , 0.0949559 ],\n",
       "       [0.61212731, 0.38787269],\n",
       "       [0.83450246, 0.16549754],\n",
       "       [0.89887767, 0.10112233],\n",
       "       [0.81666271, 0.18333729],\n",
       "       [0.87209698, 0.12790302],\n",
       "       [0.89606345, 0.10393655],\n",
       "       [0.86950977, 0.13049023],\n",
       "       [0.94002108, 0.05997892],\n",
       "       [0.07321735, 0.92678265],\n",
       "       [0.5926361 , 0.4073639 ],\n",
       "       [0.88063667, 0.11936333],\n",
       "       [0.65787576, 0.34212424],\n",
       "       [0.83046474, 0.16953526],\n",
       "       [0.8970357 , 0.1029643 ],\n",
       "       [0.76199889, 0.23800111],\n",
       "       [0.3942886 , 0.6057114 ],\n",
       "       [0.29650776, 0.70349224],\n",
       "       [0.56903109, 0.43096891],\n",
       "       [0.53519141, 0.46480859],\n",
       "       [0.7186405 , 0.2813595 ],\n",
       "       [0.28581117, 0.71418883],\n",
       "       [0.66836748, 0.33163252],\n",
       "       [0.53660039, 0.46339961],\n",
       "       [0.36227787, 0.63772213],\n",
       "       [0.83047872, 0.16952128],\n",
       "       [0.91035326, 0.08964674],\n",
       "       [0.83046474, 0.16953526],\n",
       "       [0.92196828, 0.07803172],\n",
       "       [0.88157017, 0.11842983],\n",
       "       [0.83047173, 0.16952827],\n",
       "       [0.43781841, 0.56218159],\n",
       "       [0.90800629, 0.09199371],\n",
       "       [0.27268467, 0.72731533],\n",
       "       [0.74216189, 0.25783811],\n",
       "       [0.9479349 , 0.0520651 ],\n",
       "       [0.87722243, 0.12277757],\n",
       "       [0.37914304, 0.62085696],\n",
       "       [0.87151811, 0.12848189],\n",
       "       [0.92428696, 0.07571304],\n",
       "       [0.28584157, 0.71415843],\n",
       "       [0.78227562, 0.21772438],\n",
       "       [0.91479243, 0.08520757],\n",
       "       [0.65424906, 0.34575094],\n",
       "       [0.41329487, 0.58670513],\n",
       "       [0.59729994, 0.40270006],\n",
       "       [0.87782868, 0.12217132],\n",
       "       [0.78184111, 0.21815889],\n",
       "       [0.87819369, 0.12180631],\n",
       "       [0.91370083, 0.08629917],\n",
       "       [0.64502459, 0.35497541],\n",
       "       [0.94847846, 0.05152154],\n",
       "       [0.91637484, 0.08362516],\n",
       "       [0.22541175, 0.77458825],\n",
       "       [0.17705161, 0.82294839],\n",
       "       [0.16666499, 0.83333501],\n",
       "       [0.93174686, 0.06825314],\n",
       "       [0.78227562, 0.21772438],\n",
       "       [0.22401445, 0.77598555],\n",
       "       [0.46982989, 0.53017011],\n",
       "       [0.87673366, 0.12326634],\n",
       "       [0.6320414 , 0.3679586 ],\n",
       "       [0.84526269, 0.15473731],\n",
       "       [0.89624822, 0.10375178],\n",
       "       [0.67988976, 0.32011024],\n",
       "       [0.56974536, 0.43025464],\n",
       "       [0.78227562, 0.21772438],\n",
       "       [0.89612047, 0.10387953],\n",
       "       [0.68765197, 0.31234803],\n",
       "       [0.28584157, 0.71415843],\n",
       "       [0.46730053, 0.53269947],\n",
       "       [0.64405439, 0.35594561],\n",
       "       [0.43250456, 0.56749544],\n",
       "       [0.28876504, 0.71123496],\n",
       "       [0.88193762, 0.11806238],\n",
       "       [0.67550218, 0.32449782],\n",
       "       [0.73054862, 0.26945138],\n",
       "       [0.87442611, 0.12557389],\n",
       "       [0.9164824 , 0.0835176 ],\n",
       "       [0.34590059, 0.65409941],\n",
       "       [0.6940345 , 0.3059655 ],\n",
       "       [0.82790521, 0.17209479],\n",
       "       [0.28089793, 0.71910207],\n",
       "       [0.8101239 , 0.1898761 ],\n",
       "       [0.11242875, 0.88757125],\n",
       "       [0.34810837, 0.65189163],\n",
       "       [0.8784518 , 0.1215482 ],\n",
       "       [0.88541034, 0.11458966],\n",
       "       [0.13594659, 0.86405341],\n",
       "       [0.16526306, 0.83473694],\n",
       "       [0.09228979, 0.90771021],\n",
       "       [0.85043808, 0.14956192],\n",
       "       [0.42922493, 0.57077507],\n",
       "       [0.87047709, 0.12952291],\n",
       "       [0.28573685, 0.71426315],\n",
       "       [0.49626624, 0.50373376],\n",
       "       [0.8803295 , 0.1196705 ],\n",
       "       [0.93004051, 0.06995949],\n",
       "       [0.54061317, 0.45938683],\n",
       "       [0.12700171, 0.87299829],\n",
       "       [0.95568212, 0.04431788],\n",
       "       [0.24199705, 0.75800295],\n",
       "       [0.8672904 , 0.1327096 ],\n",
       "       [0.76115198, 0.23884802],\n",
       "       [0.05408032, 0.94591968],\n",
       "       [0.05751026, 0.94248974],\n",
       "       [0.74561651, 0.25438349],\n",
       "       [0.54220654, 0.45779346],\n",
       "       [0.75200848, 0.24799152],\n",
       "       [0.40547662, 0.59452338],\n",
       "       [0.25660233, 0.74339767],\n",
       "       [0.72344903, 0.27655097],\n",
       "       [0.69887123, 0.30112877],\n",
       "       [0.91878462, 0.08121538],\n",
       "       [0.78326594, 0.21673406],\n",
       "       [0.89612047, 0.10387953],\n",
       "       [0.23853226, 0.76146774],\n",
       "       [0.93610317, 0.06389683],\n",
       "       [0.32547012, 0.67452988],\n",
       "       [0.79756316, 0.20243684],\n",
       "       [0.89606345, 0.10393655],\n",
       "       [0.87822376, 0.12177624],\n",
       "       [0.89606345, 0.10393655],\n",
       "       [0.42077068, 0.57922932],\n",
       "       [0.13561808, 0.86438192],\n",
       "       [0.86698543, 0.13301457],\n",
       "       [0.92232238, 0.07767762],\n",
       "       [0.89855692, 0.10144308],\n",
       "       [0.89597648, 0.10402352],\n",
       "       [0.89635894, 0.10364106],\n",
       "       [0.86105564, 0.13894436],\n",
       "       [0.86661099, 0.13338901],\n",
       "       [0.39579071, 0.60420929],\n",
       "       [0.40291839, 0.59708161],\n",
       "       [0.88215451, 0.11784549],\n",
       "       [0.92657153, 0.07342847],\n",
       "       [0.92052549, 0.07947451],\n",
       "       [0.8672904 , 0.1327096 ],\n",
       "       [0.11159617, 0.88840383],\n",
       "       [0.86185649, 0.13814351],\n",
       "       [0.94334732, 0.05665268],\n",
       "       [0.93008116, 0.06991884],\n",
       "       [0.06549864, 0.93450136],\n",
       "       [0.89590244, 0.10409756],\n",
       "       [0.34192704, 0.65807296],\n",
       "       [0.91365385, 0.08634615],\n",
       "       [0.28876504, 0.71123496],\n",
       "       [0.32013313, 0.67986687],\n",
       "       [0.89612047, 0.10387953],\n",
       "       [0.70382999, 0.29617001],\n",
       "       [0.90881181, 0.09118819],\n",
       "       [0.2841042 , 0.7158958 ],\n",
       "       [0.62854839, 0.37145161],\n",
       "       [0.91636596, 0.08363404],\n",
       "       [0.06802821, 0.93197179],\n",
       "       [0.80476091, 0.19523909],\n",
       "       [0.94177628, 0.05822372],\n",
       "       [0.25895447, 0.74104553],\n",
       "       [0.06904862, 0.93095138],\n",
       "       [0.06480064, 0.93519936],\n",
       "       [0.94537785, 0.05462215],\n",
       "       [0.91904475, 0.08095525],\n",
       "       [0.94463888, 0.05536112],\n",
       "       [0.94087576, 0.05912424],\n",
       "       [0.85541945, 0.14458055],\n",
       "       [0.89264573, 0.10735427],\n",
       "       [0.12751986, 0.87248014],\n",
       "       [0.88175642, 0.11824358],\n",
       "       [0.83947234, 0.16052766],\n",
       "       [0.83891175, 0.16108825],\n",
       "       [0.4747685 , 0.5252315 ],\n",
       "       [0.18509027, 0.81490973],\n",
       "       [0.90876121, 0.09123879],\n",
       "       [0.73543165, 0.26456835],\n",
       "       [0.64987372, 0.35012628],\n",
       "       [0.89612047, 0.10387953],\n",
       "       [0.59689504, 0.40310496],\n",
       "       [0.38532748, 0.61467252],\n",
       "       [0.98469681, 0.01530319],\n",
       "       [0.15167402, 0.84832598],\n",
       "       [0.04013301, 0.95986699],\n",
       "       [0.12449707, 0.87550293],\n",
       "       [0.37630008, 0.62369992],\n",
       "       [0.92914035, 0.07085965],\n",
       "       [0.04485145, 0.95514855],\n",
       "       [0.98469681, 0.01530319],\n",
       "       [0.66634852, 0.33365148],\n",
       "       [0.87442611, 0.12557389],\n",
       "       [0.31359617, 0.68640383],\n",
       "       [0.75528308, 0.24471692],\n",
       "       [0.86253669, 0.13746331],\n",
       "       [0.41724252, 0.58275748],\n",
       "       [0.86364528, 0.13635472],\n",
       "       [0.24409679, 0.75590321],\n",
       "       [0.76405193, 0.23594807],\n",
       "       [0.82426583, 0.17573417],\n",
       "       [0.20706251, 0.79293749],\n",
       "       [0.5208242 , 0.4791758 ],\n",
       "       [0.90173467, 0.09826533],\n",
       "       [0.87993649, 0.12006351],\n",
       "       [0.88502705, 0.11497295],\n",
       "       [0.8922996 , 0.1077004 ],\n",
       "       [0.8639514 , 0.1360486 ],\n",
       "       [0.8874258 , 0.1125742 ],\n",
       "       [0.89633589, 0.10366411]])"
      ]
     },
     "execution_count": 43,
     "metadata": {},
     "output_type": "execute_result"
    }
   ],
   "source": [
    "# Probabilities that the predicted output is equal to 0 (deceased) or 1 (survival)\n",
    "model.predict_proba(X_test)"
   ]
  },
  {
   "cell_type": "code",
   "execution_count": 44,
   "metadata": {
    "colab": {
     "base_uri": "https://localhost:8080/"
    },
    "id": "3IfkGtFi6rHc",
    "outputId": "ba0b53f8-f749-4fb3-df77-c7fa9c1f1cb6"
   },
   "outputs": [
    {
     "name": "stdout",
     "output_type": "stream",
     "text": [
      "The accuracy of the model = 83.89513108614233\n"
     ]
    }
   ],
   "source": [
    "# Accuracy of predicted model\n",
    "print(\"The accuracy of the model =\", model.score(X_test,y_test) *100)"
   ]
  },
  {
   "cell_type": "code",
   "execution_count": 45,
   "metadata": {
    "colab": {
     "base_uri": "https://localhost:8080/"
    },
    "id": "2pdT2p8K6tEC",
    "outputId": "06cbcef4-deca-49c7-9f16-22f9f2ff26bf"
   },
   "outputs": [
    {
     "data": {
      "text/plain": [
       "array([3.44499851])"
      ]
     },
     "execution_count": 45,
     "metadata": {},
     "output_type": "execute_result"
    }
   ],
   "source": [
    "# Value of b in y = m*x + b (y-intercept)\n",
    "model.intercept_"
   ]
  },
  {
   "cell_type": "code",
   "execution_count": 46,
   "metadata": {
    "colab": {
     "base_uri": "https://localhost:8080/"
    },
    "id": "oRVgscR76uFp",
    "outputId": "4a680799-77d8-488a-8bf5-4f08853e165f"
   },
   "outputs": [
    {
     "data": {
      "text/plain": [
       "array([[-1.0724346 , -0.03487751, -0.25134219, -0.12175808,  0.00397093,\n",
       "         1.25079926, -1.25379245, -0.00297722,  0.28324071, -0.28325667]])"
      ]
     },
     "execution_count": 46,
     "metadata": {},
     "output_type": "execute_result"
    }
   ],
   "source": [
    "# Value of m in y = m*x + b (coefficient of the features)\n",
    "model.coef_"
   ]
  },
  {
   "cell_type": "markdown",
   "metadata": {
    "id": "YsWIjGXvo1zR"
   },
   "source": [
    "12 - Analyse Confusion Matrix and Classification Report"
   ]
  },
  {
   "cell_type": "markdown",
   "metadata": {
    "id": "duS39dUMyJfI"
   },
   "source": [
    "Note : Key points\n",
    "       \n",
    "1.   Positive = Survived (1)\n",
    "2.   Negative = Not Survived (0)"
   ]
  },
  {
   "cell_type": "code",
   "execution_count": 47,
   "metadata": {
    "id": "5RAp3xwjNVrG"
   },
   "outputs": [],
   "source": [
    "from sklearn.metrics import confusion_matrix, ConfusionMatrixDisplay, classification_report"
   ]
  },
  {
   "cell_type": "code",
   "execution_count": 48,
   "metadata": {
    "colab": {
     "base_uri": "https://localhost:8080/"
    },
    "id": "Vd-2A3kCNXwW",
    "outputId": "2208efde-c832-4086-b223-745f542136e3"
   },
   "outputs": [
    {
     "name": "stdout",
     "output_type": "stream",
     "text": [
      "[[156  13]\n",
      " [ 30  68]]\n"
     ]
    }
   ],
   "source": [
    "print(confusion_matrix(y_test, y_pred))"
   ]
  },
  {
   "cell_type": "code",
   "execution_count": 49,
   "metadata": {
    "colab": {
     "base_uri": "https://localhost:8080/",
     "height": 297
    },
    "id": "AMzuSDCzOTNS",
    "outputId": "b69759aa-2467-486e-e217-a24c82b564f8"
   },
   "outputs": [
    {
     "data": {
      "text/plain": [
       "<sklearn.metrics._plot.confusion_matrix.ConfusionMatrixDisplay at 0x2008a1b4280>"
      ]
     },
     "execution_count": 49,
     "metadata": {},
     "output_type": "execute_result"
    },
    {
     "data": {
      "image/png": "[encoded data removed]",
      "text/plain": [
       "<Figure size 432x288 with 2 Axes>"
      ]
     },
     "metadata": {
      "needs_background": "light"
     },
     "output_type": "display_data"
    }
   ],
   "source": [
    "conf_m = ConfusionMatrixDisplay(confusion_matrix(y_test, y_pred))\n",
    "conf_m.plot()"
   ]
  },
  {
   "cell_type": "code",
   "execution_count": 50,
   "metadata": {
    "colab": {
     "base_uri": "https://localhost:8080/"
    },
    "id": "ic9UK-0KZWaU",
    "outputId": "84f79600-f412-4794-89e7-cbb1ea131ee9"
   },
   "outputs": [
    {
     "name": "stdout",
     "output_type": "stream",
     "text": [
      "True Negative : 156\n",
      "False Negative : 13\n",
      "False Positive : 30\n",
      "True Positive : 68\n"
     ]
    }
   ],
   "source": [
    "TN, FN, FP, TP = confusion_matrix(y_test ,y_pred).ravel()\n",
    "print('True Negative :', TN)\n",
    "print('False Negative :', FN)\n",
    "print('False Positive :', FP)\n",
    "print('True Positive :', TP)"
   ]
  },
  {
   "cell_type": "code",
   "execution_count": 51,
   "metadata": {
    "colab": {
     "base_uri": "https://localhost:8080/"
    },
    "id": "BqCy_STIODLE",
    "outputId": "b118bca5-b920-4766-d981-f453b06f240c"
   },
   "outputs": [
    {
     "name": "stdout",
     "output_type": "stream",
     "text": [
      "              precision    recall  f1-score   support\n",
      "\n",
      "           0       0.84      0.92      0.88       169\n",
      "           1       0.84      0.69      0.76        98\n",
      "\n",
      "    accuracy                           0.84       267\n",
      "   macro avg       0.84      0.81      0.82       267\n",
      "weighted avg       0.84      0.84      0.84       267\n",
      "\n"
     ]
    }
   ],
   "source": [
    "print(classification_report(y_test, y_pred))"
   ]
  },
  {
   "cell_type": "markdown",
   "metadata": {
    "id": "ddngJeYbjwtb"
   },
   "source": [
    "******************************************************************** THE END ************************************************************************"
   ]
  }
 ],
 "metadata": {
  "colab": {
   "collapsed_sections": [],
   "name": "Group 4_Titanic.ipynb",
   "provenance": []
  },
  "kernelspec": {
   "display_name": "Python 3",
   "language": "python",
   "name": "python3"
  },
  "language_info": {
   "codemirror_mode": {
    "name": "ipython",
    "version": 3
   },
   "file_extension": ".py",
   "mimetype": "text/x-python",
   "name": "python",
   "nbconvert_exporter": "python",
   "pygments_lexer": "ipython3",
   "version": "3.8.8"
  }
 },
 "nbformat": 4,
 "nbformat_minor": 1
}
